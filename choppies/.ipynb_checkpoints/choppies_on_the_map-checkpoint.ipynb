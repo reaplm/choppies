{
 "cells": [
  {
   "cell_type": "markdown",
   "id": "b44551c5",
   "metadata": {},
   "source": [
    "### The growth of choppies across Botswana"
   ]
  },
  {
   "cell_type": "code",
   "execution_count": 2,
   "id": "60ebd8f0",
   "metadata": {},
   "outputs": [],
   "source": [
    "choppies <- read.csv(\"choppies.csv\")"
   ]
  },
  {
   "cell_type": "code",
   "execution_count": 3,
   "id": "2a259bca",
   "metadata": {},
   "outputs": [
    {
     "ename": "ERROR",
     "evalue": "Error in factor(choppies_map$District): object 'choppies_map' not found\n",
     "output_type": "error",
     "traceback": [
      "Error in factor(choppies_map$District): object 'choppies_map' not found\nTraceback:\n",
      "1. factor(choppies_map$District)"
     ]
    }
   ],
   "source": [
    "choppies$Date <- as.Date(choppies$Date, \"%d/%m/%Y\")\n",
    "choppies$year <- as.numeric(format(choppies$Date, \"%Y\"))\n",
    "choppies_map$District <- factor(choppies_map$District)"
   ]
  },
  {
   "cell_type": "code",
   "execution_count": 94,
   "id": "6e4b0bdc",
   "metadata": {},
   "outputs": [
    {
     "name": "stdout",
     "output_type": "stream",
     "text": [
      "'data.frame':\t108 obs. of  8 variables:\n",
      " $ Name     : chr  \"Choppies Bobonong\" \"Choppies Letlhakane\" \"Choppies Mahalapye\" \"Choppies Mahalapye\" ...\n",
      " $ District : chr  \"Central\" \"Central\" \"Central\" \"Central\" ...\n",
      " $ Town     : chr  \"Bobonong\" \"Letlhakane\" \"Mahalapye\" \"Mahalapye\" ...\n",
      " $ Address  : chr  \"Moilamba Ward,Cash Bazaar building\" \"Nkosho Ward,Letlhakane\" \"Plot 6042, Main Mall, Mahalapye\" \"Watershed Mall, A1,  Mahalapye\" ...\n",
      " $ latitude : num  -22 -21.4 -23.1 -23.1 NA ...\n",
      " $ longitude: num  28.4 25.6 26.8 26.8 NA ...\n",
      " $ Date     : chr  \"12/09/2012\" \"12/10/2007\" \"13/01/2012\" \"\" ...\n",
      " $ Registred: chr  \"Y\" \"Y\" \"Y\" \"Y\" ...\n"
     ]
    }
   ],
   "source": [
    "str(choppies)"
   ]
  },
  {
   "cell_type": "code",
   "execution_count": 95,
   "id": "265321ba",
   "metadata": {},
   "outputs": [
    {
     "data": {
      "text/plain": [
       "     Name             District             Town             Address         \n",
       " Length:108         Length:108         Length:108         Length:108        \n",
       " Class :character   Class :character   Class :character   Class :character  \n",
       " Mode  :character   Mode  :character   Mode  :character   Mode  :character  \n",
       "                                                                            \n",
       "                                                                            \n",
       "                                                                            \n",
       "                                                                            \n",
       "    latitude        longitude         Date            Registred        \n",
       " Min.   :-26.02   Min.   :21.64   Length:108         Length:108        \n",
       " 1st Qu.:-24.66   1st Qu.:25.55   Class :character   Class :character  \n",
       " Median :-24.61   Median :25.87   Mode  :character   Mode  :character  \n",
       " Mean   :-23.48   Mean   :25.81                                        \n",
       " 3rd Qu.:-21.98   3rd Qu.:26.11                                        \n",
       " Max.   :-17.80   Max.   :28.42                                        \n",
       " NA's   :29       NA's   :29                                           "
      ]
     },
     "metadata": {},
     "output_type": "display_data"
    }
   ],
   "source": [
    "summary(choppies)"
   ]
  },
  {
   "cell_type": "code",
   "execution_count": 5,
   "id": "5aed08bb",
   "metadata": {
    "scrolled": true
   },
   "outputs": [
    {
     "name": "stderr",
     "output_type": "stream",
     "text": [
      "\n",
      "Attaching package: 'dplyr'\n",
      "\n",
      "\n",
      "The following objects are masked from 'package:stats':\n",
      "\n",
      "    filter, lag\n",
      "\n",
      "\n",
      "The following objects are masked from 'package:base':\n",
      "\n",
      "    intersect, setdiff, setequal, union\n",
      "\n",
      "\n"
     ]
    }
   ],
   "source": [
    "library(dplyr)"
   ]
  },
  {
   "cell_type": "code",
   "execution_count": null,
   "id": "3dcc3a74",
   "metadata": {},
   "outputs": [],
   "source": [
    "Removing NAs..."
   ]
  },
  {
   "cell_type": "code",
   "execution_count": 124,
   "id": "8385e9c8",
   "metadata": {},
   "outputs": [],
   "source": [
    "choppies_map <- choppies %>% \n",
    "filter(!is.na(longitude),!is.na(latitude), !is.na(Date)) %>%\n",
    "data.frame"
   ]
  },
  {
   "cell_type": "code",
   "execution_count": 125,
   "id": "ae600eb1",
   "metadata": {},
   "outputs": [
    {
     "name": "stdout",
     "output_type": "stream",
     "text": [
      "'data.frame':\t74 obs. of  9 variables:\n",
      " $ Name     : chr  \"Choppies Bobonong\" \"Choppies Letlhakane\" \"Choppies Mahalapye\" \"Choppies Palapye\" ...\n",
      " $ District : chr  \"Central\" \"Central\" \"Central\" \"Central\" ...\n",
      " $ Town     : chr  \"Bobonong\" \"Letlhakane\" \"Mahalapye\" \"Palapye\" ...\n",
      " $ Address  : chr  \"Moilamba Ward,Cash Bazaar building\" \"Nkosho Ward,Letlhakane\" \"Plot 6042, Main Mall, Mahalapye\" \"Makwapa complex,Serorome Ward,Palapye\" ...\n",
      " $ latitude : num  -22 -21.4 -23.1 -22.5 -22.5 ...\n",
      " $ longitude: num  28.4 25.6 26.8 27.1 27.1 ...\n",
      " $ Date     : Date, format: \"2012-09-12\" \"2007-10-12\" ...\n",
      " $ Registred: chr  \"Y\" \"Y\" \"Y\" \"Y\" ...\n",
      " $ year     : num  2012 2007 2012 2005 2020 ...\n"
     ]
    }
   ],
   "source": [
    "str(choppies_map)"
   ]
  },
  {
   "cell_type": "code",
   "execution_count": 126,
   "id": "4b8880bb",
   "metadata": {},
   "outputs": [
    {
     "data": {
      "text/plain": [
       "     Name             District             Town             Address         \n",
       " Length:74          Length:74          Length:74          Length:74         \n",
       " Class :character   Class :character   Class :character   Class :character  \n",
       " Mode  :character   Mode  :character   Mode  :character   Mode  :character  \n",
       "                                                                            \n",
       "                                                                            \n",
       "                                                                            \n",
       "    latitude        longitude          Date             Registred        \n",
       " Min.   :-26.02   Min.   :21.64   Min.   :1999-11-02   Length:74         \n",
       " 1st Qu.:-24.66   1st Qu.:25.52   1st Qu.:2005-09-13   Class :character  \n",
       " Median :-24.61   Median :25.88   Median :2011-08-06   Mode  :character  \n",
       " Mean   :-23.42   Mean   :25.80   Mean   :2010-12-12                     \n",
       " 3rd Qu.:-21.97   3rd Qu.:26.13   3rd Qu.:2013-11-11                     \n",
       " Max.   :-17.80   Max.   :28.42   Max.   :2021-10-28                     \n",
       "      year     \n",
       " Min.   :1999  \n",
       " 1st Qu.:2005  \n",
       " Median :2011  \n",
       " Mean   :2010  \n",
       " 3rd Qu.:2013  \n",
       " Max.   :2021  "
      ]
     },
     "metadata": {},
     "output_type": "display_data"
    }
   ],
   "source": [
    "summary(choppies_map)"
   ]
  },
  {
   "cell_type": "code",
   "execution_count": 48,
   "id": "190334ac",
   "metadata": {},
   "outputs": [
    {
     "name": "stderr",
     "output_type": "stream",
     "text": [
      "Loading required package: viridisLite\n",
      "\n"
     ]
    }
   ],
   "source": [
    "library(sf)\n",
    "library(rnaturalearth)\n",
    "library(rnaturalearthdata)\n",
    "library(ggplot2)\n",
    "library(plotly)\n",
    "library(viridis)"
   ]
  },
  {
   "cell_type": "code",
   "execution_count": 218,
   "id": "bc219d45",
   "metadata": {},
   "outputs": [],
   "source": [
    "#install.packages(\"devtools\") # I guess you also need this\n",
    "#devtools::install_github(\"ropensci/rnaturalearthhires\")\n",
    "library(\"rnaturalearth\")"
   ]
  },
  {
   "cell_type": "code",
   "execution_count": 219,
   "id": "6621087c",
   "metadata": {},
   "outputs": [],
   "source": [
    "BW_states <- ne_states(country = 'botswana', returnclass = 'sf')\n",
    "#str(BW_states)"
   ]
  },
  {
   "cell_type": "code",
   "execution_count": 1,
   "id": "bbfdbb04",
   "metadata": {},
   "outputs": [
    {
     "ename": "ERROR",
     "evalue": "Error in ggplot(data = BW_states): could not find function \"ggplot\"\n",
     "output_type": "error",
     "traceback": [
      "Error in ggplot(data = BW_states): could not find function \"ggplot\"\nTraceback:\n"
     ]
    }
   ],
   "source": [
    "set.seed(3)\n",
    "g <- ggplot(data = BW_states) + geom_sf() +\n",
    "geom_jitter(data = choppies_map, \n",
    "           mapping=aes(x = longitude, y = latitude, \n",
    "               colour = District, alpha = 0.5), \n",
    "            width = 0.1, height = 0.15) +\n",
    "scale_color_viridis_d()\n",
    "\n",
    "ggplotly(g)"
   ]
  },
  {
   "cell_type": "code",
   "execution_count": null,
   "id": "5c581690",
   "metadata": {},
   "outputs": [],
   "source": [
    "\n",
    "\n",
    "set.seed(3)\n",
    "g <- ggplot(data = BW_states) + geom_sf() +\n",
    "geom_jitter(data = choppies_map, \n",
    "           mapping=aes(x = longitude, y = latitude, \n",
    "               colour = District, alpha = 0.5), \n",
    "            width = 0.1, height = 0.15) +\n",
    "scale_color_viridis_d()\n",
    "\n",
    "ggplotly(g)"
   ]
  },
  {
   "cell_type": "code",
   "execution_count": 145,
   "id": "d38ac5e9",
   "metadata": {},
   "outputs": [],
   "source": [
    "library(gganimate)\n",
    "library(gifski)"
   ]
  },
  {
   "cell_type": "code",
   "execution_count": 214,
   "id": "3c4c9dd9",
   "metadata": {},
   "outputs": [],
   "source": [
    "set.seed(3)\n",
    "map_with_data <- ggplot(data = BW_states) + geom_sf() +\n",
    "geom_jitter(data = choppies_map, \n",
    "           mapping=aes(x = longitude, y = latitude, \n",
    "               colour = District, alpha = 0.5, group = year), \n",
    "            width = 0.1, height = 0.15) +\n",
    "scale_color_viridis_d()\n"
   ]
  },
  {
   "cell_type": "code",
   "execution_count": 215,
   "id": "70d07fee",
   "metadata": {},
   "outputs": [],
   "source": [
    "num_years <- max(choppies_map$year) - min(choppies_map$year) + 1\n",
    "\n",
    "map_with_animation <- map_with_data +\n",
    "    transition_time(year) +\n",
    "ggtitle('The growth of choppies: {frame_time}')\n",
    "\n",
    "map_with_animation <- map_with_animation +\n",
    "shadow_mark()\n",
    "\n",
    "\n",
    "animate(map_with_animation, nframes = num_years, fps = 1)\n",
    "anim_save('choppies_growth.gif')"
   ]
  }
 ],
 "metadata": {
  "celltoolbar": "Raw Cell Format",
  "kernelspec": {
   "display_name": "R",
   "language": "R",
   "name": "ir"
  },
  "language_info": {
   "codemirror_mode": "r",
   "file_extension": ".r",
   "mimetype": "text/x-r-source",
   "name": "R",
   "pygments_lexer": "r",
   "version": "4.1.3"
  }
 },
 "nbformat": 4,
 "nbformat_minor": 5
}
