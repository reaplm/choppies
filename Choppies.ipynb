{
 "cells": [
  {
   "cell_type": "markdown",
   "metadata": {},
   "source": [
    "# The growth of choppies stores"
   ]
  },
  {
   "cell_type": "markdown",
   "metadata": {},
   "source": [
    "The growth of Choppies supermarket from 1999 to 2021"
   ]
  },
  {
   "cell_type": "code",
   "execution_count": 91,
   "metadata": {},
   "outputs": [],
   "source": [
    "#Choppies.csv\n",
    "choppies <- read.csv(\"choppies.csv\")"
   ]
  },
  {
   "cell_type": "code",
   "execution_count": 92,
   "metadata": {
    "scrolled": false
   },
   "outputs": [
    {
     "name": "stdout",
     "output_type": "stream",
     "text": [
      "'data.frame':\t108 obs. of  8 variables:\n",
      " $ Name     : chr  \"Choppies Bobonong\" \"Choppies Letlhakane\" \"Choppies Mahalapye\" \"Choppies Mahalapye\" ...\n",
      " $ District : chr  \"Central\" \"Central\" \"Central\" \"Central\" ...\n",
      " $ Town     : chr  \"Bobonong\" \"Letlhakane\" \"Mahalapye\" \"Mahalapye\" ...\n",
      " $ Address  : chr  \"Moilamba Ward,Cash Bazaar building\" \"Nkosho Ward,Letlhakane\" \"Plot 6042, Main Mall, Mahalapye\" \"Watershed Mall, A1,  Mahalapye\" ...\n",
      " $ latitude : num  -22 -21.4 -23.1 -23.1 NA ...\n",
      " $ longitude: num  28.4 25.6 26.8 26.8 NA ...\n",
      " $ Date     : chr  \"12/09/2012\" \"12/10/2007\" \"13/01/2012\" \"\" ...\n",
      " $ Registred: chr  \"Y\" \"Y\" \"Y\" \"Y\" ...\n"
     ]
    }
   ],
   "source": [
    "str(choppies)"
   ]
  },
  {
   "cell_type": "code",
   "execution_count": 93,
   "metadata": {},
   "outputs": [],
   "source": [
    "choppies$Name <- as.character(choppies$Name )\n",
    "choppies$Address <- as.character(choppies$Address)\n",
    "choppies$Date <- as.Date(choppies$Date, \"%d/%m/%Y\")"
   ]
  },
  {
   "cell_type": "markdown",
   "metadata": {},
   "source": [
    "Converting variables to lowercase makes them easy to work with..."
   ]
  },
  {
   "cell_type": "code",
   "execution_count": 94,
   "metadata": {},
   "outputs": [],
   "source": [
    "names(choppies) <- tolower(names(choppies))"
   ]
  },
  {
   "cell_type": "code",
   "execution_count": 95,
   "metadata": {},
   "outputs": [
    {
     "name": "stdout",
     "output_type": "stream",
     "text": [
      "'data.frame':\t108 obs. of  8 variables:\n",
      " $ name     : chr  \"Choppies Bobonong\" \"Choppies Letlhakane\" \"Choppies Mahalapye\" \"Choppies Mahalapye\" ...\n",
      " $ district : chr  \"Central\" \"Central\" \"Central\" \"Central\" ...\n",
      " $ town     : chr  \"Bobonong\" \"Letlhakane\" \"Mahalapye\" \"Mahalapye\" ...\n",
      " $ address  : chr  \"Moilamba Ward,Cash Bazaar building\" \"Nkosho Ward,Letlhakane\" \"Plot 6042, Main Mall, Mahalapye\" \"Watershed Mall, A1,  Mahalapye\" ...\n",
      " $ latitude : num  -22 -21.4 -23.1 -23.1 NA ...\n",
      " $ longitude: num  28.4 25.6 26.8 26.8 NA ...\n",
      " $ date     : Date, format: \"2012-09-12\" \"2007-10-12\" ...\n",
      " $ registred: chr  \"Y\" \"Y\" \"Y\" \"Y\" ...\n"
     ]
    }
   ],
   "source": [
    "str(choppies)"
   ]
  },
  {
   "cell_type": "code",
   "execution_count": 96,
   "metadata": {},
   "outputs": [
    {
     "data": {
      "text/plain": [
       "     name             district             town             address         \n",
       " Length:108         Length:108         Length:108         Length:108        \n",
       " Class :character   Class :character   Class :character   Class :character  \n",
       " Mode  :character   Mode  :character   Mode  :character   Mode  :character  \n",
       "                                                                            \n",
       "                                                                            \n",
       "                                                                            \n",
       "                                                                            \n",
       "    latitude        longitude          date             registred        \n",
       " Min.   :-26.02   Min.   :21.64   Min.   :1999-11-02   Length:108        \n",
       " 1st Qu.:-24.66   1st Qu.:25.55   1st Qu.:2006-03-16   Class :character  \n",
       " Median :-24.61   Median :25.87   Median :2012-06-22   Mode  :character  \n",
       " Mean   :-23.48   Mean   :25.81   Mean   :2011-09-14                     \n",
       " 3rd Qu.:-21.98   3rd Qu.:26.11   3rd Qu.:2014-10-28                     \n",
       " Max.   :-17.80   Max.   :28.42   Max.   :2021-10-28                     \n",
       " NA's   :29       NA's   :29      NA's   :10                             "
      ]
     },
     "metadata": {},
     "output_type": "display_data"
    }
   ],
   "source": [
    "summary(choppies)"
   ]
  },
  {
   "cell_type": "code",
   "execution_count": 116,
   "metadata": {},
   "outputs": [],
   "source": [
    "library(dplyr)"
   ]
  },
  {
   "cell_type": "code",
   "execution_count": 97,
   "metadata": {},
   "outputs": [
    {
     "data": {
      "text/html": [
       "<table class=\"dataframe\">\n",
       "<caption>A tibble: 13 × 2</caption>\n",
       "<thead>\n",
       "\t<tr><th scope=col>district</th><th scope=col>n</th></tr>\n",
       "\t<tr><th scope=col>&lt;chr&gt;</th><th scope=col>&lt;int&gt;</th></tr>\n",
       "</thead>\n",
       "<tbody>\n",
       "\t<tr><td>South-East</td><td>42</td></tr>\n",
       "\t<tr><td>Kweneng   </td><td>18</td></tr>\n",
       "\t<tr><td>Central   </td><td>17</td></tr>\n",
       "\t<tr><td>Southern  </td><td> 9</td></tr>\n",
       "\t<tr><td>North-East</td><td> 7</td></tr>\n",
       "\t<tr><td>North-West</td><td> 4</td></tr>\n",
       "\t<tr><td>Chobe     </td><td> 2</td></tr>\n",
       "\t<tr><td>Ghanzi    </td><td> 2</td></tr>\n",
       "\t<tr><td>Kgalagadi </td><td> 2</td></tr>\n",
       "\t<tr><td>Kgatleng  </td><td> 2</td></tr>\n",
       "\t<tr><td>kgatleng  </td><td> 1</td></tr>\n",
       "\t<tr><td>north-East</td><td> 1</td></tr>\n",
       "\t<tr><td>south-East</td><td> 1</td></tr>\n",
       "</tbody>\n",
       "</table>\n"
      ],
      "text/latex": [
       "A tibble: 13 × 2\n",
       "\\begin{tabular}{ll}\n",
       " district & n\\\\\n",
       " <chr> & <int>\\\\\n",
       "\\hline\n",
       "\t South-East & 42\\\\\n",
       "\t Kweneng    & 18\\\\\n",
       "\t Central    & 17\\\\\n",
       "\t Southern   &  9\\\\\n",
       "\t North-East &  7\\\\\n",
       "\t North-West &  4\\\\\n",
       "\t Chobe      &  2\\\\\n",
       "\t Ghanzi     &  2\\\\\n",
       "\t Kgalagadi  &  2\\\\\n",
       "\t Kgatleng   &  2\\\\\n",
       "\t kgatleng   &  1\\\\\n",
       "\t north-East &  1\\\\\n",
       "\t south-East &  1\\\\\n",
       "\\end{tabular}\n"
      ],
      "text/markdown": [
       "\n",
       "A tibble: 13 × 2\n",
       "\n",
       "| district &lt;chr&gt; | n &lt;int&gt; |\n",
       "|---|---|\n",
       "| South-East | 42 |\n",
       "| Kweneng    | 18 |\n",
       "| Central    | 17 |\n",
       "| Southern   |  9 |\n",
       "| North-East |  7 |\n",
       "| North-West |  4 |\n",
       "| Chobe      |  2 |\n",
       "| Ghanzi     |  2 |\n",
       "| Kgalagadi  |  2 |\n",
       "| Kgatleng   |  2 |\n",
       "| kgatleng   |  1 |\n",
       "| north-East |  1 |\n",
       "| south-East |  1 |\n",
       "\n"
      ],
      "text/plain": [
       "   district   n \n",
       "1  South-East 42\n",
       "2  Kweneng    18\n",
       "3  Central    17\n",
       "4  Southern    9\n",
       "5  North-East  7\n",
       "6  North-West  4\n",
       "7  Chobe       2\n",
       "8  Ghanzi      2\n",
       "9  Kgalagadi   2\n",
       "10 Kgatleng    2\n",
       "11 kgatleng    1\n",
       "12 north-East  1\n",
       "13 south-East  1"
      ]
     },
     "metadata": {},
     "output_type": "display_data"
    }
   ],
   "source": [
    "choppies %>% group_by(district) %>% summarise(n = n()) %>% arrange(desc(n))"
   ]
  },
  {
   "cell_type": "code",
   "execution_count": 98,
   "metadata": {},
   "outputs": [
    {
     "name": "stderr",
     "output_type": "stream",
     "text": [
      "\u001b[1m\u001b[22mSelecting by n\n"
     ]
    },
    {
     "data": {
      "text/html": [
       "<table class=\"dataframe\">\n",
       "<caption>A tibble: 10 × 2</caption>\n",
       "<thead>\n",
       "\t<tr><th scope=col>town</th><th scope=col>n</th></tr>\n",
       "\t<tr><th scope=col>&lt;chr&gt;</th><th scope=col>&lt;int&gt;</th></tr>\n",
       "</thead>\n",
       "<tbody>\n",
       "\t<tr><td>Gaborone    </td><td>28</td></tr>\n",
       "\t<tr><td>Mogoditshane</td><td> 9</td></tr>\n",
       "\t<tr><td>Francistown </td><td> 7</td></tr>\n",
       "\t<tr><td>Lobatse     </td><td> 7</td></tr>\n",
       "\t<tr><td>Mahalapye   </td><td> 3</td></tr>\n",
       "\t<tr><td>Maun        </td><td> 3</td></tr>\n",
       "\t<tr><td>Molepolole  </td><td> 3</td></tr>\n",
       "\t<tr><td>Palapye     </td><td> 3</td></tr>\n",
       "\t<tr><td>Ramotswa    </td><td> 3</td></tr>\n",
       "\t<tr><td>Tlokweng    </td><td> 3</td></tr>\n",
       "</tbody>\n",
       "</table>\n"
      ],
      "text/latex": [
       "A tibble: 10 × 2\n",
       "\\begin{tabular}{ll}\n",
       " town & n\\\\\n",
       " <chr> & <int>\\\\\n",
       "\\hline\n",
       "\t Gaborone     & 28\\\\\n",
       "\t Mogoditshane &  9\\\\\n",
       "\t Francistown  &  7\\\\\n",
       "\t Lobatse      &  7\\\\\n",
       "\t Mahalapye    &  3\\\\\n",
       "\t Maun         &  3\\\\\n",
       "\t Molepolole   &  3\\\\\n",
       "\t Palapye      &  3\\\\\n",
       "\t Ramotswa     &  3\\\\\n",
       "\t Tlokweng     &  3\\\\\n",
       "\\end{tabular}\n"
      ],
      "text/markdown": [
       "\n",
       "A tibble: 10 × 2\n",
       "\n",
       "| town &lt;chr&gt; | n &lt;int&gt; |\n",
       "|---|---|\n",
       "| Gaborone     | 28 |\n",
       "| Mogoditshane |  9 |\n",
       "| Francistown  |  7 |\n",
       "| Lobatse      |  7 |\n",
       "| Mahalapye    |  3 |\n",
       "| Maun         |  3 |\n",
       "| Molepolole   |  3 |\n",
       "| Palapye      |  3 |\n",
       "| Ramotswa     |  3 |\n",
       "| Tlokweng     |  3 |\n",
       "\n"
      ],
      "text/plain": [
       "   town         n \n",
       "1  Gaborone     28\n",
       "2  Mogoditshane  9\n",
       "3  Francistown   7\n",
       "4  Lobatse       7\n",
       "5  Mahalapye     3\n",
       "6  Maun          3\n",
       "7  Molepolole    3\n",
       "8  Palapye       3\n",
       "9  Ramotswa      3\n",
       "10 Tlokweng      3"
      ]
     },
     "metadata": {},
     "output_type": "display_data"
    }
   ],
   "source": [
    "choppies %>% group_by(town) %>% \n",
    "summarise(n = n()) %>% \n",
    "arrange(desc(n)) %>%\n",
    "top_n(10) "
   ]
  },
  {
   "cell_type": "code",
   "execution_count": 99,
   "metadata": {},
   "outputs": [],
   "source": [
    "choppies$month <- months(choppies$date)\n",
    "choppies$year <- as.numeric(format(choppies$date, \"%Y\"))"
   ]
  },
  {
   "cell_type": "code",
   "execution_count": 100,
   "metadata": {},
   "outputs": [
    {
     "name": "stdout",
     "output_type": "stream",
     "text": [
      "'data.frame':\t108 obs. of  10 variables:\n",
      " $ name     : chr  \"Choppies Bobonong\" \"Choppies Letlhakane\" \"Choppies Mahalapye\" \"Choppies Mahalapye\" ...\n",
      " $ district : chr  \"Central\" \"Central\" \"Central\" \"Central\" ...\n",
      " $ town     : chr  \"Bobonong\" \"Letlhakane\" \"Mahalapye\" \"Mahalapye\" ...\n",
      " $ address  : chr  \"Moilamba Ward,Cash Bazaar building\" \"Nkosho Ward,Letlhakane\" \"Plot 6042, Main Mall, Mahalapye\" \"Watershed Mall, A1,  Mahalapye\" ...\n",
      " $ latitude : num  -22 -21.4 -23.1 -23.1 NA ...\n",
      " $ longitude: num  28.4 25.6 26.8 26.8 NA ...\n",
      " $ date     : Date, format: \"2012-09-12\" \"2007-10-12\" ...\n",
      " $ registred: chr  \"Y\" \"Y\" \"Y\" \"Y\" ...\n",
      " $ month    : chr  \"September\" \"October\" \"January\" NA ...\n",
      " $ year     : num  2012 2007 2012 NA 2012 ...\n"
     ]
    }
   ],
   "source": [
    "str(choppies)"
   ]
  },
  {
   "cell_type": "code",
   "execution_count": 101,
   "metadata": {},
   "outputs": [
    {
     "data": {
      "text/html": [
       "<table class=\"dataframe\">\n",
       "<caption>A tibble: 6 × 2</caption>\n",
       "<thead>\n",
       "\t<tr><th scope=col>year</th><th scope=col>n</th></tr>\n",
       "\t<tr><th scope=col>&lt;dbl&gt;</th><th scope=col>&lt;int&gt;</th></tr>\n",
       "</thead>\n",
       "<tbody>\n",
       "\t<tr><td>2005</td><td>10</td></tr>\n",
       "\t<tr><td>2012</td><td> 9</td></tr>\n",
       "\t<tr><td>2010</td><td> 8</td></tr>\n",
       "\t<tr><td>2003</td><td> 7</td></tr>\n",
       "\t<tr><td>2013</td><td> 7</td></tr>\n",
       "\t<tr><td>2018</td><td> 7</td></tr>\n",
       "</tbody>\n",
       "</table>\n"
      ],
      "text/latex": [
       "A tibble: 6 × 2\n",
       "\\begin{tabular}{ll}\n",
       " year & n\\\\\n",
       " <dbl> & <int>\\\\\n",
       "\\hline\n",
       "\t 2005 & 10\\\\\n",
       "\t 2012 &  9\\\\\n",
       "\t 2010 &  8\\\\\n",
       "\t 2003 &  7\\\\\n",
       "\t 2013 &  7\\\\\n",
       "\t 2018 &  7\\\\\n",
       "\\end{tabular}\n"
      ],
      "text/markdown": [
       "\n",
       "A tibble: 6 × 2\n",
       "\n",
       "| year &lt;dbl&gt; | n &lt;int&gt; |\n",
       "|---|---|\n",
       "| 2005 | 10 |\n",
       "| 2012 |  9 |\n",
       "| 2010 |  8 |\n",
       "| 2003 |  7 |\n",
       "| 2013 |  7 |\n",
       "| 2018 |  7 |\n",
       "\n"
      ],
      "text/plain": [
       "  year n \n",
       "1 2005 10\n",
       "2 2012  9\n",
       "3 2010  8\n",
       "4 2003  7\n",
       "5 2013  7\n",
       "6 2018  7"
      ]
     },
     "metadata": {},
     "output_type": "display_data"
    }
   ],
   "source": [
    "choppies %>% na.omit %>%\n",
    "group_by(year) %>%\n",
    "summarise(n = n()) %>%\n",
    "arrange(desc(n)) %>% head()"
   ]
  },
  {
   "cell_type": "code",
   "execution_count": 113,
   "metadata": {},
   "outputs": [
    {
     "name": "stderr",
     "output_type": "stream",
     "text": [
      "\u001b[1m\u001b[22m`summarise()` has grouped output by 'year'. You can override using the\n",
      "`.groups` argument.\n",
      "\u001b[1m\u001b[22mSelecting by n\n"
     ]
    },
    {
     "data": {
      "text/html": [
       "<table class=\"dataframe\">\n",
       "<caption>A tibble: 18 × 3</caption>\n",
       "<thead>\n",
       "\t<tr><th scope=col>year</th><th scope=col>district</th><th scope=col>n</th></tr>\n",
       "\t<tr><th scope=col>&lt;dbl&gt;</th><th scope=col>&lt;chr&gt;</th><th scope=col>&lt;int&gt;</th></tr>\n",
       "</thead>\n",
       "<tbody>\n",
       "\t<tr><td>2005</td><td>South-East</td><td>6</td></tr>\n",
       "\t<tr><td>2010</td><td>South-East</td><td>6</td></tr>\n",
       "\t<tr><td>2012</td><td>South-East</td><td>6</td></tr>\n",
       "\t<tr><td>2018</td><td>South-East</td><td>6</td></tr>\n",
       "\t<tr><td>2012</td><td>Central   </td><td>5</td></tr>\n",
       "\t<tr><td>2013</td><td>Kweneng   </td><td>4</td></tr>\n",
       "\t<tr><td>2003</td><td>Southern  </td><td>3</td></tr>\n",
       "\t<tr><td>2006</td><td>Kweneng   </td><td>3</td></tr>\n",
       "\t<tr><td>2013</td><td>South-East</td><td>3</td></tr>\n",
       "\t<tr><td>1999</td><td>South-East</td><td>2</td></tr>\n",
       "\t<tr><td>2003</td><td>South-East</td><td>2</td></tr>\n",
       "\t<tr><td>2005</td><td>Central   </td><td>2</td></tr>\n",
       "\t<tr><td>2010</td><td>Central   </td><td>2</td></tr>\n",
       "\t<tr><td>2010</td><td>North-East</td><td>2</td></tr>\n",
       "\t<tr><td>2011</td><td>Kweneng   </td><td>2</td></tr>\n",
       "\t<tr><td>2011</td><td>South-East</td><td>2</td></tr>\n",
       "\t<tr><td>2015</td><td>Kweneng   </td><td>2</td></tr>\n",
       "\t<tr><td>2018</td><td>Kweneng   </td><td>2</td></tr>\n",
       "</tbody>\n",
       "</table>\n"
      ],
      "text/latex": [
       "A tibble: 18 × 3\n",
       "\\begin{tabular}{lll}\n",
       " year & district & n\\\\\n",
       " <dbl> & <chr> & <int>\\\\\n",
       "\\hline\n",
       "\t 2005 & South-East & 6\\\\\n",
       "\t 2010 & South-East & 6\\\\\n",
       "\t 2012 & South-East & 6\\\\\n",
       "\t 2018 & South-East & 6\\\\\n",
       "\t 2012 & Central    & 5\\\\\n",
       "\t 2013 & Kweneng    & 4\\\\\n",
       "\t 2003 & Southern   & 3\\\\\n",
       "\t 2006 & Kweneng    & 3\\\\\n",
       "\t 2013 & South-East & 3\\\\\n",
       "\t 1999 & South-East & 2\\\\\n",
       "\t 2003 & South-East & 2\\\\\n",
       "\t 2005 & Central    & 2\\\\\n",
       "\t 2010 & Central    & 2\\\\\n",
       "\t 2010 & North-East & 2\\\\\n",
       "\t 2011 & Kweneng    & 2\\\\\n",
       "\t 2011 & South-East & 2\\\\\n",
       "\t 2015 & Kweneng    & 2\\\\\n",
       "\t 2018 & Kweneng    & 2\\\\\n",
       "\\end{tabular}\n"
      ],
      "text/markdown": [
       "\n",
       "A tibble: 18 × 3\n",
       "\n",
       "| year &lt;dbl&gt; | district &lt;chr&gt; | n &lt;int&gt; |\n",
       "|---|---|---|\n",
       "| 2005 | South-East | 6 |\n",
       "| 2010 | South-East | 6 |\n",
       "| 2012 | South-East | 6 |\n",
       "| 2018 | South-East | 6 |\n",
       "| 2012 | Central    | 5 |\n",
       "| 2013 | Kweneng    | 4 |\n",
       "| 2003 | Southern   | 3 |\n",
       "| 2006 | Kweneng    | 3 |\n",
       "| 2013 | South-East | 3 |\n",
       "| 1999 | South-East | 2 |\n",
       "| 2003 | South-East | 2 |\n",
       "| 2005 | Central    | 2 |\n",
       "| 2010 | Central    | 2 |\n",
       "| 2010 | North-East | 2 |\n",
       "| 2011 | Kweneng    | 2 |\n",
       "| 2011 | South-East | 2 |\n",
       "| 2015 | Kweneng    | 2 |\n",
       "| 2018 | Kweneng    | 2 |\n",
       "\n"
      ],
      "text/plain": [
       "   year district   n\n",
       "1  2005 South-East 6\n",
       "2  2010 South-East 6\n",
       "3  2012 South-East 6\n",
       "4  2018 South-East 6\n",
       "5  2012 Central    5\n",
       "6  2013 Kweneng    4\n",
       "7  2003 Southern   3\n",
       "8  2006 Kweneng    3\n",
       "9  2013 South-East 3\n",
       "10 1999 South-East 2\n",
       "11 2003 South-East 2\n",
       "12 2005 Central    2\n",
       "13 2010 Central    2\n",
       "14 2010 North-East 2\n",
       "15 2011 Kweneng    2\n",
       "16 2011 South-East 2\n",
       "17 2015 Kweneng    2\n",
       "18 2018 Kweneng    2"
      ]
     },
     "metadata": {},
     "output_type": "display_data"
    }
   ],
   "source": [
    "choppies %>% filter(!is.na(year)) %>%\n",
    "group_by(year, district) %>%\n",
    "summarise(n = n()) %>%\n",
    "arrange(desc(n)) %>%\n",
    "ungroup() %>%\n",
    "top_n(10)\n"
   ]
  },
  {
   "cell_type": "code",
   "execution_count": 103,
   "metadata": {},
   "outputs": [
    {
     "name": "stdout",
     "output_type": "stream",
     "text": [
      "'data.frame':\t98 obs. of  2 variables:\n",
      " $ district: Factor w/ 12 levels \"Central\",\"Chobe\",..: 1 1 1 1 1 1 1 1 1 1 ...\n",
      " $ year    : num  2012 2007 2012 2012 2005 ...\n"
     ]
    }
   ],
   "source": [
    "c <- choppies %>% \n",
    "filter(!is.na(year)) %>%\n",
    "select(district,year) \n",
    "\n",
    "df <- data.frame(c)\n",
    "df$district <- factor(df$district)\n",
    "str(df)\n"
   ]
  },
  {
   "cell_type": "code",
   "execution_count": 104,
   "metadata": {},
   "outputs": [
    {
     "data": {
      "image/png": "[encoded data removed]",
      "text/plain": [
       "plot without title"
      ]
     },
     "metadata": {
      "image/png": {
       "height": 420,
       "width": 420
      }
     },
     "output_type": "display_data"
    }
   ],
   "source": [
    "ggplot(df, aes(year, fill=district)) + \n",
    "geom_bar() +\n",
    "scale_fill_viridis(discrete = TRUE)"
   ]
  }
 ],
 "metadata": {
  "kernelspec": {
   "display_name": "R",
   "language": "R",
   "name": "ir"
  },
  "language_info": {
   "codemirror_mode": "r",
   "file_extension": ".r",
   "mimetype": "text/x-r-source",
   "name": "R",
   "pygments_lexer": "r",
   "version": "4.1.3"
  }
 },
 "nbformat": 4,
 "nbformat_minor": 4
}
