{
 "cells": [
  {
   "cell_type": "code",
   "execution_count": 1,
   "id": "d6900f13",
   "metadata": {},
   "outputs": [
    {
     "name": "stdout",
     "output_type": "stream",
     "text": [
      "'data.frame':\t108 obs. of  8 variables:\n",
      " $ Name     : chr  \"Choppies Bobonong\" \"Choppies Letlhakane\" \"Choppies Mahalapye\" \"Choppies Mahalapye\" ...\n",
      " $ District : chr  \"Central\" \"Central\" \"Central\" \"Central\" ...\n",
      " $ Town     : chr  \"Bobonong\" \"Letlhakane\" \"Mahalapye\" \"Mahalapye\" ...\n",
      " $ Address  : chr  \"Moilamba Ward,Cash Bazaar building\" \"Nkosho Ward,Letlhakane\" \"Plot 6042, Main Mall, Mahalapye\" \"Watershed Mall, A1,  Mahalapye\" ...\n",
      " $ latitude : num  -22 -21.4 -23.1 -23.1 NA ...\n",
      " $ longitude: num  28.4 25.6 26.8 26.8 NA ...\n",
      " $ Date     : chr  \"12/09/2012\" \"12/10/2007\" \"13/01/2012\" \"\" ...\n",
      " $ Registred: chr  \"Y\" \"Y\" \"Y\" \"Y\" ...\n"
     ]
    }
   ],
   "source": [
    "#load choppies data\n",
    "choppies <- read.csv(\"choppies.csv\")\n",
    "str(choppies)\n"
   ]
  },
  {
   "cell_type": "code",
   "execution_count": 2,
   "id": "e731d852",
   "metadata": {},
   "outputs": [
    {
     "name": "stdout",
     "output_type": "stream",
     "text": [
      "'data.frame':\t12 obs. of  9 variables:\n",
      " $ Name     : chr  \"Pick N Pay Botswana\" \"Pick N Pay Family Supermarket Dairy\" \"Pick N Pay Family Supermarket Francistown 1\" \"Pick N Pay Family Supermarket Francistown 2\" ...\n",
      " $ District : chr  \"South-East\" \"South-East\" \"North-East\" \"North-East\" ...\n",
      " $ Town     : chr  \"Gaborone\" \"Gaborone\" \"Francistown\" \"Francistown\" ...\n",
      " $ Address  : chr  \"Plot 1277, Clover House, Old Lobatse Road\" \"Shop 1 Dairy Site, Southring Mall Extension 12, Gaborone\" \"Cnr guy and, St Patrick St, Francistown\" \"Plot 839-840/841-846, Blue Jacket Street, Francistown\" ...\n",
      " $ latitude : num  NA -24.7 -21.2 -21.2 -24.6 ...\n",
      " $ longitude: num  NA 25.9 27.5 27.5 24.7 ...\n",
      " $ Date     : chr  \"07/09/2009\" \"16/11/2010\" \"12/03/2004\" \"19/10/2010\" ...\n",
      " $ Cancelled: chr  \"\" \"\" \"03/12/2020\" \"\" ...\n",
      " $ Registred: chr  \"Y\" \"Y\" \"N\" \"Y\" ...\n"
     ]
    }
   ],
   "source": [
    "#load picknpay data\n",
    "picknpay <- read.csv(\"picknpay.csv\")\n",
    "str(picknpay)"
   ]
  },
  {
   "cell_type": "code",
   "execution_count": 3,
   "id": "925b9fdd",
   "metadata": {},
   "outputs": [
    {
     "name": "stdout",
     "output_type": "stream",
     "text": [
      "'data.frame':\t12 obs. of  9 variables:\n",
      " $ Name     : chr  \"Pick N Pay Botswana\" \"Pick N Pay Family Supermarket Dairy\" \"Pick N Pay Family Supermarket Francistown 1\" \"Pick N Pay Family Supermarket Francistown 2\" ...\n",
      " $ District : chr  \"South-East\" \"South-East\" \"North-East\" \"North-East\" ...\n",
      " $ Town     : chr  \"Gaborone\" \"Gaborone\" \"Francistown\" \"Francistown\" ...\n",
      " $ Address  : chr  \"Plot 1277, Clover House, Old Lobatse Road\" \"Shop 1 Dairy Site, Southring Mall Extension 12, Gaborone\" \"Cnr guy and, St Patrick St, Francistown\" \"Plot 839-840/841-846, Blue Jacket Street, Francistown\" ...\n",
      " $ latitude : num  NA -24.7 -21.2 -21.2 -24.6 ...\n",
      " $ longitude: num  NA 25.9 27.5 27.5 24.7 ...\n",
      " $ Date     : chr  \"07/09/2009\" \"16/11/2010\" \"12/03/2004\" \"19/10/2010\" ...\n",
      " $ Cancelled: chr  \"\" \"\" \"03/12/2020\" \"\" ...\n",
      " $ Registred: chr  \"Y\" \"Y\" \"N\" \"Y\" ...\n"
     ]
    }
   ],
   "source": [
    "#load spar data\n",
    "spar <- read.csv(\"spar.csv\")\n",
    "str(spar)"
   ]
  },
  {
   "cell_type": "code",
   "execution_count": null,
   "id": "ad39d811",
   "metadata": {},
   "outputs": [],
   "source": [
    "library(dplyr)"
   ]
  },
  {
   "cell_type": "code",
   "execution_count": 4,
   "id": "83e819c8",
   "metadata": {},
   "outputs": [
    {
     "ename": "ERROR",
     "evalue": "Error in rbind(deparse.level, ...): numbers of columns of arguments do not match\n",
     "output_type": "error",
     "traceback": [
      "Error in rbind(deparse.level, ...): numbers of columns of arguments do not match\nTraceback:\n",
      "1. rbind(choppies, picknpay, spar)",
      "2. rbind(deparse.level, ...)",
      "3. stop(\"numbers of columns of arguments do not match\")"
     ]
    }
   ],
   "source": [
    "merged_stores <- rbind(choppies, picknpay, spar)"
   ]
  }
 ],
 "metadata": {
  "kernelspec": {
   "display_name": "R",
   "language": "R",
   "name": "ir"
  },
  "language_info": {
   "codemirror_mode": "r",
   "file_extension": ".r",
   "mimetype": "text/x-r-source",
   "name": "R",
   "pygments_lexer": "r",
   "version": "4.1.3"
  }
 },
 "nbformat": 4,
 "nbformat_minor": 5
}
