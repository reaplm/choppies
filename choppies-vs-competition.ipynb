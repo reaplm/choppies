{
 "cells": [
  {
   "cell_type": "markdown",
   "id": "2139cc33",
   "metadata": {},
   "source": [
    "# Choppies and the Competition"
   ]
  },
  {
   "cell_type": "code",
   "execution_count": 3,
   "id": "d6900f13",
   "metadata": {},
   "outputs": [
    {
     "name": "stdout",
     "output_type": "stream",
     "text": [
      "'data.frame':\t108 obs. of  10 variables:\n",
      " $ Name      : chr  \"Choppies Bobonong\" \"Choppies Letlhakane\" \"Choppies Mahalapye\" \"Choppies Mahalapye\" ...\n",
      " $ District  : chr  \"Central\" \"Central\" \"Central\" \"Central\" ...\n",
      " $ Town      : chr  \"Bobonong\" \"Letlhakane\" \"Mahalapye\" \"Mahalapye\" ...\n",
      " $ Address   : chr  \"Moilamba Ward,Cash Bazaar building\" \"Nkosho Ward,Letlhakane\" \"Plot 6042, Main Mall, Mahalapye\" \"Watershed Mall, A1,  Mahalapye\" ...\n",
      " $ latitude  : num  -22 -21.4 -23.1 -23.1 NA ...\n",
      " $ longitude : num  28.4 25.6 26.8 26.8 NA ...\n",
      " $ Date      : chr  \"12/09/2012\" \"12/10/2007\" \"13/01/2012\" \"\" ...\n",
      " $ Cancelled : logi  NA NA NA NA NA NA ...\n",
      " $ Registered: chr  \"Y\" \"Y\" \"Y\" \"Y\" ...\n",
      " $ Store     : chr  \"choppies\" \"choppies\" \"choppies\" \"choppies\" ...\n"
     ]
    }
   ],
   "source": [
    "#load choppies data\n",
    "choppies <- read.csv(\"choppies.csv\")\n",
    "str(choppies)\n"
   ]
  },
  {
   "cell_type": "code",
   "execution_count": 4,
   "id": "e731d852",
   "metadata": {},
   "outputs": [
    {
     "name": "stdout",
     "output_type": "stream",
     "text": [
      "'data.frame':\t12 obs. of  10 variables:\n",
      " $ Name      : chr  \"Pick N Pay Botswana\" \"Pick N Pay Family Supermarket Dairy\" \"Pick N Pay Family Supermarket Francistown 1\" \"Pick N Pay Family Supermarket Francistown 2\" ...\n",
      " $ District  : chr  \"South-East\" \"South-East\" \"North-East\" \"North-East\" ...\n",
      " $ Town      : chr  \"Gaborone\" \"Gaborone\" \"Francistown\" \"Francistown\" ...\n",
      " $ Address   : chr  \"Plot 1277, Clover House, Old Lobatse Road\" \"Shop 1 Dairy Site, Southring Mall Extension 12, Gaborone\" \"Cnr guy and, St Patrick St, Francistown\" \"Plot 839-840/841-846, Blue Jacket Street, Francistown\" ...\n",
      " $ latitude  : num  NA -24.7 -21.2 -21.2 -24.6 ...\n",
      " $ longitude : num  NA 25.9 27.5 27.5 24.7 ...\n",
      " $ Date      : chr  \"07/09/2009\" \"16/11/2010\" \"12/03/2004\" \"19/10/2010\" ...\n",
      " $ Cancelled : chr  \"\" \"\" \"03/12/2020\" \"\" ...\n",
      " $ Registered: chr  \"Y\" \"Y\" \"N\" \"Y\" ...\n",
      " $ Store     : chr  \"picknpay\" \"picknpay\" \"picknpay\" \"picknpay\" ...\n"
     ]
    }
   ],
   "source": [
    "#load picknpay data\n",
    "picknpay <- read.csv(\"picknpay.csv\")\n",
    "str(picknpay)"
   ]
  },
  {
   "cell_type": "code",
   "execution_count": 5,
   "id": "925b9fdd",
   "metadata": {},
   "outputs": [
    {
     "name": "stdout",
     "output_type": "stream",
     "text": [
      "'data.frame':\t34 obs. of  10 variables:\n",
      " $ Name      : chr  \"Acacia Superspar\" \"Airport Junction Spar\" \"Bamangwato Spar\" \"Boiteko Junction Spar\" ...\n",
      " $ District  : chr  \"South-East\" \"South-East\" \"Central\" \"Central\" ...\n",
      " $ Town      : chr  \"Phakalane\" \"Gaborone\" \"Palapye\" \"Serowe\" ...\n",
      " $ Address   : chr  \"Plot 75123, Acacia Mall, Phakalane\" \"Plot 70665, Shop 19 Airport Junction\" \"Plot 1707, Unit No.8 Lobatse Complex, Palapye\" \"Plot 2461, Boiteko Junction, Serowe\" ...\n",
      " $ latitude  : num  -24.6 -24.6 NA -22.4 -20 ...\n",
      " $ longitude : num  26 25.9 NA 26.7 23.4 ...\n",
      " $ Date      : chr  \"08/09/2017\" \"02/07/2013\" \"02/07/2013\" \"01/06/2017\" ...\n",
      " $ Cancelled : logi  NA NA NA NA NA NA ...\n",
      " $ Registered: chr  \"Y\" \"Y\" \"Y\" \"Y\" ...\n",
      " $ Store     : chr  \"spar\" \"spar\" \"spar\" \"spar\" ...\n"
     ]
    }
   ],
   "source": [
    "#load spar data\n",
    "spar <- read.csv(\"spar.csv\")\n",
    "str(spar)"
   ]
  },
  {
   "cell_type": "code",
   "execution_count": 6,
   "id": "83e819c8",
   "metadata": {},
   "outputs": [],
   "source": [
    "merged_stores <- rbind(choppies, picknpay, spar)"
   ]
  },
  {
   "cell_type": "code",
   "execution_count": 7,
   "id": "c9dfee3a",
   "metadata": {},
   "outputs": [
    {
     "name": "stdout",
     "output_type": "stream",
     "text": [
      "'data.frame':\t154 obs. of  10 variables:\n",
      " $ Name      : chr  \"Choppies Bobonong\" \"Choppies Letlhakane\" \"Choppies Mahalapye\" \"Choppies Mahalapye\" ...\n",
      " $ District  : chr  \"Central\" \"Central\" \"Central\" \"Central\" ...\n",
      " $ Town      : chr  \"Bobonong\" \"Letlhakane\" \"Mahalapye\" \"Mahalapye\" ...\n",
      " $ Address   : chr  \"Moilamba Ward,Cash Bazaar building\" \"Nkosho Ward,Letlhakane\" \"Plot 6042, Main Mall, Mahalapye\" \"Watershed Mall, A1,  Mahalapye\" ...\n",
      " $ latitude  : num  -22 -21.4 -23.1 -23.1 NA ...\n",
      " $ longitude : num  28.4 25.6 26.8 26.8 NA ...\n",
      " $ Date      : chr  \"12/09/2012\" \"12/10/2007\" \"13/01/2012\" \"\" ...\n",
      " $ Cancelled : chr  NA NA NA NA ...\n",
      " $ Registered: chr  \"Y\" \"Y\" \"Y\" \"Y\" ...\n",
      " $ Store     : chr  \"choppies\" \"choppies\" \"choppies\" \"choppies\" ...\n"
     ]
    }
   ],
   "source": [
    "str(merged_stores)"
   ]
  },
  {
   "cell_type": "markdown",
   "id": "2b51c360",
   "metadata": {},
   "source": [
    "Converting variables to correct data type"
   ]
  },
  {
   "cell_type": "code",
   "execution_count": 8,
   "id": "ad4e2182",
   "metadata": {},
   "outputs": [
    {
     "name": "stdout",
     "output_type": "stream",
     "text": [
      "'data.frame':\t154 obs. of  11 variables:\n",
      " $ name      : chr  \"Choppies Bobonong\" \"Choppies Letlhakane\" \"Choppies Mahalapye\" \"Choppies Mahalapye\" ...\n",
      " $ district  : Factor w/ 14 levels \"Central\",\"Chobe\",..: 1 1 1 1 1 1 1 1 1 1 ...\n",
      " $ town      : chr  \"Bobonong\" \"Letlhakane\" \"Mahalapye\" \"Mahalapye\" ...\n",
      " $ address   : chr  \"Moilamba Ward,Cash Bazaar building\" \"Nkosho Ward,Letlhakane\" \"Plot 6042, Main Mall, Mahalapye\" \"Watershed Mall, A1,  Mahalapye\" ...\n",
      " $ latitude  : num  -22 -21.4 -23.1 -23.1 NA ...\n",
      " $ longitude : num  28.4 25.6 26.8 26.8 NA ...\n",
      " $ date      : Date, format: \"2012-09-12\" \"2007-10-12\" ...\n",
      " $ cancelled : chr  NA NA NA NA ...\n",
      " $ registered: chr  \"Y\" \"Y\" \"Y\" \"Y\" ...\n",
      " $ store     : chr  \"choppies\" \"choppies\" \"choppies\" \"choppies\" ...\n",
      " $ year      : num  2012 2007 2012 NA 2012 ...\n"
     ]
    }
   ],
   "source": [
    "names(merged_stores) <- tolower(names(merged_stores))\n",
    "merged_stores$district <- factor(merged_stores$district)\n",
    "merged_stores$date <- as.Date(merged_stores$date, \"%d/%m/%Y\")\n",
    "merged_stores$year <- as.numeric(format(merged_stores$date, \"%Y\"))\n",
    "str(merged_stores)"
   ]
  },
  {
   "cell_type": "code",
   "execution_count": 9,
   "id": "64f0d81b",
   "metadata": {},
   "outputs": [
    {
     "data": {
      "text/plain": [
       "     name                 district      town             address         \n",
       " Length:154         South-East:59   Length:154         Length:154        \n",
       " Class :character   Central   :29   Class :character   Class :character  \n",
       " Mode  :character   Kweneng   :22   Mode  :character   Mode  :character  \n",
       "                    North-East:12                                        \n",
       "                    Southern  :10                                        \n",
       "                    North-West: 6                                        \n",
       "                    (Other)   :16                                        \n",
       "    latitude        longitude          date             cancelled        \n",
       " Min.   :-26.02   Min.   :21.64   Min.   :1994-09-23   Length:154        \n",
       " 1st Qu.:-24.66   1st Qu.:25.58   1st Qu.:2010-04-08   Class :character  \n",
       " Median :-24.60   Median :25.89   Median :2013-06-27   Mode  :character  \n",
       " Mean   :-23.41   Mean   :25.88   Mean   :2012-07-04                     \n",
       " 3rd Qu.:-21.97   3rd Qu.:26.35   3rd Qu.:2016-03-05                     \n",
       " Max.   :-17.80   Max.   :28.42   Max.   :2022-04-28                     \n",
       " NA's   :35       NA's   :35      NA's   :14                             \n",
       "  registered           store                year     \n",
       " Length:154         Length:154         Min.   :1994  \n",
       " Class :character   Class :character   1st Qu.:2010  \n",
       " Mode  :character   Mode  :character   Median :2013  \n",
       "                                       Mean   :2012  \n",
       "                                       3rd Qu.:2016  \n",
       "                                       Max.   :2022  \n",
       "                                       NA's   :14    "
      ]
     },
     "metadata": {},
     "output_type": "display_data"
    }
   ],
   "source": [
    "summary(merged_stores)"
   ]
  },
  {
   "cell_type": "code",
   "execution_count": 10,
   "id": "a92656e0",
   "metadata": {
    "scrolled": true
   },
   "outputs": [
    {
     "name": "stderr",
     "output_type": "stream",
     "text": [
      "\n",
      "Attaching package: 'dplyr'\n",
      "\n",
      "\n",
      "The following objects are masked from 'package:stats':\n",
      "\n",
      "    filter, lag\n",
      "\n",
      "\n",
      "The following objects are masked from 'package:base':\n",
      "\n",
      "    intersect, setdiff, setequal, union\n",
      "\n",
      "\n",
      "Loading required package: viridisLite\n",
      "\n",
      "\n",
      "Attaching package: 'plotly'\n",
      "\n",
      "\n",
      "The following object is masked from 'package:ggplot2':\n",
      "\n",
      "    last_plot\n",
      "\n",
      "\n",
      "The following object is masked from 'package:stats':\n",
      "\n",
      "    filter\n",
      "\n",
      "\n",
      "The following object is masked from 'package:graphics':\n",
      "\n",
      "    layout\n",
      "\n",
      "\n"
     ]
    }
   ],
   "source": [
    "library(dplyr)\n",
    "library(ggplot2)\n",
    "library(viridis)\n",
    "library(rnaturalearth)\n",
    "library(rnaturalearthhires)\n",
    "library(plotly)"
   ]
  },
  {
   "cell_type": "markdown",
   "id": "5a4cc1b8",
   "metadata": {},
   "source": [
    "The number of stores owned by choppies compared to other stores (spar and picknpay)"
   ]
  },
  {
   "cell_type": "code",
   "execution_count": 11,
   "id": "add7b270",
   "metadata": {},
   "outputs": [
    {
     "data": {
      "text/html": [
       "<table class=\"dataframe\">\n",
       "<caption>A tibble: 3 × 3</caption>\n",
       "<thead>\n",
       "\t<tr><th scope=col>store</th><th scope=col>count</th><th scope=col>percent</th></tr>\n",
       "\t<tr><th scope=col>&lt;chr&gt;</th><th scope=col>&lt;int&gt;</th><th scope=col>&lt;dbl&gt;</th></tr>\n",
       "</thead>\n",
       "<tbody>\n",
       "\t<tr><td>choppies</td><td>108</td><td>70.13</td></tr>\n",
       "\t<tr><td>picknpay</td><td> 12</td><td> 7.79</td></tr>\n",
       "\t<tr><td>spar    </td><td> 34</td><td>22.08</td></tr>\n",
       "</tbody>\n",
       "</table>\n"
      ],
      "text/latex": [
       "A tibble: 3 × 3\n",
       "\\begin{tabular}{lll}\n",
       " store & count & percent\\\\\n",
       " <chr> & <int> & <dbl>\\\\\n",
       "\\hline\n",
       "\t choppies & 108 & 70.13\\\\\n",
       "\t picknpay &  12 &  7.79\\\\\n",
       "\t spar     &  34 & 22.08\\\\\n",
       "\\end{tabular}\n"
      ],
      "text/markdown": [
       "\n",
       "A tibble: 3 × 3\n",
       "\n",
       "| store &lt;chr&gt; | count &lt;int&gt; | percent &lt;dbl&gt; |\n",
       "|---|---|---|\n",
       "| choppies | 108 | 70.13 |\n",
       "| picknpay |  12 |  7.79 |\n",
       "| spar     |  34 | 22.08 |\n",
       "\n"
      ],
      "text/plain": [
       "  store    count percent\n",
       "1 choppies 108   70.13  \n",
       "2 picknpay  12    7.79  \n",
       "3 spar      34   22.08  "
      ]
     },
     "metadata": {},
     "output_type": "display_data"
    }
   ],
   "source": [
    "merged_stores %>%\n",
    "group_by(store) %>%\n",
    "summarise(count = n()) %>%\n",
    "mutate(percent = round(100*count/sum(count), 2))"
   ]
  },
  {
   "cell_type": "markdown",
   "id": "1960a8b9",
   "metadata": {},
   "source": [
    "The number of stores in Gaborone"
   ]
  },
  {
   "cell_type": "code",
   "execution_count": 12,
   "id": "e2a991cc",
   "metadata": {},
   "outputs": [
    {
     "data": {
      "text/html": [
       "<table class=\"dataframe\">\n",
       "<caption>A tibble: 3 × 3</caption>\n",
       "<thead>\n",
       "\t<tr><th scope=col>store</th><th scope=col>count</th><th scope=col>percent</th></tr>\n",
       "\t<tr><th scope=col>&lt;chr&gt;</th><th scope=col>&lt;int&gt;</th><th scope=col>&lt;dbl&gt;</th></tr>\n",
       "</thead>\n",
       "<tbody>\n",
       "\t<tr><td>choppies</td><td>28</td><td>68.29</td></tr>\n",
       "\t<tr><td>picknpay</td><td> 5</td><td>12.20</td></tr>\n",
       "\t<tr><td>spar    </td><td> 8</td><td>19.51</td></tr>\n",
       "</tbody>\n",
       "</table>\n"
      ],
      "text/latex": [
       "A tibble: 3 × 3\n",
       "\\begin{tabular}{lll}\n",
       " store & count & percent\\\\\n",
       " <chr> & <int> & <dbl>\\\\\n",
       "\\hline\n",
       "\t choppies & 28 & 68.29\\\\\n",
       "\t picknpay &  5 & 12.20\\\\\n",
       "\t spar     &  8 & 19.51\\\\\n",
       "\\end{tabular}\n"
      ],
      "text/markdown": [
       "\n",
       "A tibble: 3 × 3\n",
       "\n",
       "| store &lt;chr&gt; | count &lt;int&gt; | percent &lt;dbl&gt; |\n",
       "|---|---|---|\n",
       "| choppies | 28 | 68.29 |\n",
       "| picknpay |  5 | 12.20 |\n",
       "| spar     |  8 | 19.51 |\n",
       "\n"
      ],
      "text/plain": [
       "  store    count percent\n",
       "1 choppies 28    68.29  \n",
       "2 picknpay  5    12.20  \n",
       "3 spar      8    19.51  "
      ]
     },
     "metadata": {},
     "output_type": "display_data"
    }
   ],
   "source": [
    "merged_stores %>%\n",
    "filter(town == \"Gaborone\") %>%\n",
    "group_by(store) %>%\n",
    "summarise(count = n()) %>%\n",
    "mutate(percent = round(100*count/sum(count), 2))"
   ]
  },
  {
   "cell_type": "code",
   "execution_count": 13,
   "id": "71864987",
   "metadata": {},
   "outputs": [
    {
     "data": {
      "image/png": "[encoded data removed]",
      "text/plain": [
       "plot without title"
      ]
     },
     "metadata": {
      "image/png": {
       "height": 420,
       "width": 420
      }
     },
     "output_type": "display_data"
    }
   ],
   "source": [
    "merged_stores %>%\n",
    "filter(!is.na(year)) %>%\n",
    "ggplot(aes(year, fill = store)) +\n",
    "geom_bar() + \n",
    "ggtitle(\"Stores registered between 1994 and 2022\") +\n",
    "theme(plot.title = element_text(hjust = 0.5)) +\n",
    "geom_text(aes(label = after_stat(count)), stat = \"count\",\n",
    "         position = position_stack(vjust = 0.5),\n",
    "         color = \"white\") + \n",
    "scale_fill_viridis(discrete = TRUE)"
   ]
  },
  {
   "cell_type": "code",
   "execution_count": 14,
   "id": "055751de",
   "metadata": {},
   "outputs": [
    {
     "data": {
      "text/plain": [
       "     name                 district      town             address         \n",
       " Length:111         South-East:37   Length:111         Length:111        \n",
       " Class :character   Central   :24   Class :character   Class :character  \n",
       " Mode  :character   Kweneng   :15   Mode  :character   Mode  :character  \n",
       "                    North-East: 9                                        \n",
       "                    Southern  : 9                                        \n",
       "                    North-West: 5                                        \n",
       "                    (Other)   :12                                        \n",
       "    latitude        longitude          date             cancelled        \n",
       " Min.   :-26.02   Min.   :21.64   Min.   :1999-11-02   Length:111        \n",
       " 1st Qu.:-24.66   1st Qu.:25.55   1st Qu.:2007-07-22   Class :character  \n",
       " Median :-24.57   Median :25.90   Median :2012-10-29   Mode  :character  \n",
       " Mean   :-23.33   Mean   :25.88   Mean   :2012-04-09                     \n",
       " 3rd Qu.:-21.70   3rd Qu.:26.61   3rd Qu.:2014-12-29                     \n",
       " Max.   :-17.80   Max.   :28.42   Max.   :2022-04-28                     \n",
       "                                                                         \n",
       "  registered           store                year     \n",
       " Length:111         Length:111         Min.   :1999  \n",
       " Class :character   Class :character   1st Qu.:2007  \n",
       " Mode  :character   Mode  :character   Median :2012  \n",
       "                                       Mean   :2012  \n",
       "                                       3rd Qu.:2014  \n",
       "                                       Max.   :2022  \n",
       "                                                     "
      ]
     },
     "metadata": {},
     "output_type": "display_data"
    }
   ],
   "source": [
    "df <- merged_stores %>%\n",
    "filter(!is.na(year), !is.na(latitude), !is.na(latitude))\n",
    "summary(df)"
   ]
  },
  {
   "cell_type": "code",
   "execution_count": 15,
   "id": "1304124e",
   "metadata": {},
   "outputs": [
    {
     "data": {
      "image/png": "[encoded data removed]",
      "text/plain": [
       "plot without title"
      ]
     },
     "metadata": {
      "image/png": {
       "height": 420,
       "width": 420
      }
     },
     "output_type": "display_data"
    }
   ],
   "source": [
    "BW <- ne_states(country = \"botswana\", returnclass = 'sf')\n",
    "\n",
    "ggplot(data=BW) + geom_sf() +\n",
    "geom_point(data = df, aes(x = longitude, y = latitude, color = store)) +\n",
    "ggtitle(\"Locations of Choppies, Pick 'n Pay and Spar\") +\n",
    "theme(plot.title = element_text(hjust = 0.5)) +\n",
    "scale_color_viridis(discrete = TRUE)\n",
    "\n",
    "#ggplotly(fig)"
   ]
  },
  {
   "cell_type": "code",
   "execution_count": 16,
   "id": "228ed77b",
   "metadata": {},
   "outputs": [
    {
     "data": {
      "image/png": "[encoded data removed]",
      "text/plain": [
       "plot without title"
      ]
     },
     "metadata": {
      "image/png": {
       "height": 420,
       "width": 420
      }
     },
     "output_type": "display_data"
    }
   ],
   "source": [
    "set.seed(3)\n",
    "ggplot(data = BW) + geom_sf() +\n",
    "geom_jitter(data = df, \n",
    "           mapping=aes(x = longitude, y = latitude, \n",
    "               colour = store, alpha = 0.5), \n",
    "            width = 0.1, height = 0.15) +\n",
    "ggtitle(\"Locations of Choppies, Pick 'n Pay and Spar\") +\n",
    "theme(plot.title = element_text(hjust = 0.5)) +\n",
    "scale_color_viridis_d()\n",
    "\n",
    "#ggplot(g)"
   ]
  },
  {
   "cell_type": "code",
   "execution_count": 17,
   "id": "026a3b9d",
   "metadata": {},
   "outputs": [],
   "source": [
    "library(gganimate)\n",
    "library(gifski)"
   ]
  },
  {
   "cell_type": "code",
   "execution_count": 19,
   "id": "cb49c641",
   "metadata": {},
   "outputs": [],
   "source": [
    "num_years <- max(df$year) - min(df$year) + 1\n",
    "\n",
    "map_data <- ggplot(BW) + geom_sf() +\n",
    "geom_jitter(data = df, \n",
    "            mapping = aes(x = longitude, \n",
    "                        y = latitude, color = store,\n",
    "                         alpha = 0.5, group = year), \n",
    "            width = 0.1, height = 0.15) +\n",
    "scale_color_viridis(discrete = TRUE)\n",
    "\n",
    "map_with_animation <- map_data +\n",
    "transition_time(year) +\n",
    "ggtitle(\"Stores registered in {frame_time}\") +\n",
    "theme(plot.title = element_text(hjust = 0.5))\n",
    "\n",
    "map_with_animation <- map_with_animation +\n",
    "shadow_mark()\n",
    "\n",
    "animate(map_with_animation, nframes = num_years, fps = 1)\n",
    "\n",
    "#save the gif\n",
    "anim_save(\"stores_registered.gif\")\n"
   ]
  }
 ],
 "metadata": {
  "kernelspec": {
   "display_name": "R",
   "language": "R",
   "name": "ir"
  },
  "language_info": {
   "codemirror_mode": "r",
   "file_extension": ".r",
   "mimetype": "text/x-r-source",
   "name": "R",
   "pygments_lexer": "r",
   "version": "4.1.3"
  }
 },
 "nbformat": 4,
 "nbformat_minor": 5
}
