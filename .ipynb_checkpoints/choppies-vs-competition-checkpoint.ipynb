{
 "cells": [
  {
   "cell_type": "code",
   "execution_count": null,
   "id": "c4b8a135",
   "metadata": {},
   "outputs": [],
   "source": [
    "#load choppies data\n",
    "choppies <- read.csv(\"choppies.csv\")\n",
    "str(choppies)\n"
   ]
  },
  {
   "cell_type": "code",
   "execution_count": null,
   "id": "d911ce72",
   "metadata": {},
   "outputs": [],
   "source": [
    "#load picknpay data\n",
    "picknpay <- read.csv(\"picknpay.csv\")\n",
    "str(picknpay)"
   ]
  },
  {
   "cell_type": "code",
   "execution_count": null,
   "id": "af38a8a1",
   "metadata": {},
   "outputs": [],
   "source": [
    "#load spar data\n",
    "spar <- read.csv(\"spar.csv\")\n",
    "str(spar)"
   ]
  }
 ],
 "metadata": {
  "kernelspec": {
   "display_name": "R",
   "language": "R",
   "name": "ir"
  },
  "language_info": {
   "codemirror_mode": "r",
   "file_extension": ".r",
   "mimetype": "text/x-r-source",
   "name": "R",
   "pygments_lexer": "r",
   "version": "4.1.3"
  }
 },
 "nbformat": 4,
 "nbformat_minor": 5
}
